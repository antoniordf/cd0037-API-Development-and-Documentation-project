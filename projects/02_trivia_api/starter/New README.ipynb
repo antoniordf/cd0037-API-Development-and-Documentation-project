{
 "cells": [
  {
   "cell_type": "markdown",
   "id": "bc59d680",
   "metadata": {},
   "source": [
    "# Trivia App Documentation\n",
    "\n",
    "The objective of the app is to serve as a fun trivia-based question and answer game for the purposes of creating fun, interactive bonding experiences. The game has the format of a web page game with a list of questions and answers of different categories and difficulty levels.\n",
    "\n",
    "The application has the following functionalities:\n",
    "1. Display questions - both all questions and by category. Questions show the question, category and difficulty rating by default and can show/hide the answer.\n",
    "2. Delete questions.\n",
    "3. Add questions.\n",
    "4. Search for questions based on a text query string.\n",
    "5. Play the quiz game.\n",
    "\n",
    "All backend code follows PEP8 style guidelines.\n",
    "\n",
    "## Getting Started\n",
    "\n",
    "### Pre-requisites and Local Development\n",
    "\n",
    "Developers using this project should have Python3, pip and node installed on their local machines.\n",
    "\n",
    "#### Backend\n",
    "\n",
    "From the backend folder run **pip install requirements.txt** to install all required packages.\n",
    "\n",
    "To run the application run the following commands:"
   ]
  },
  {
   "cell_type": "raw",
   "id": "df877ebd",
   "metadata": {},
   "source": [
    "export FLASK_APP=flaskr\n",
    "export FLASK_ENV=development\n",
    "flask run"
   ]
  },
  {
   "cell_type": "markdown",
   "id": "cedacfae",
   "metadata": {},
   "source": [
    "These commands start the application in development mode and direct the application to use the __init__.py file in the flaskr folder. Working in development mode shows an interactive debugger in the console and restarts the server every time changes are made.\n",
    "\n",
    "The app is run on http://127.0.0.1:5000/ by default and is a proxy in the frontend configuration.\n",
    "\n",
    "#### Frontend\n",
    "\n",
    "To start the client, run the following commands from the frontend folder:"
   ]
  },
  {
   "cell_type": "raw",
   "id": "31410a64",
   "metadata": {},
   "source": [
    "npm install // only once to install dependencies\n",
    "npm start "
   ]
  },
  {
   "cell_type": "markdown",
   "id": "2e08cf91",
   "metadata": {},
   "source": [
    "By default, the frontend will run on localhost:3000.\n",
    "\n",
    "### Tests\n",
    "\n",
    "To run tests, navigate to the backend folder and run the following commands:"
   ]
  },
  {
   "cell_type": "raw",
   "id": "a197a1d1",
   "metadata": {},
   "source": [
    "dropdb trivia_test\n",
    "createdb trivia_test\n",
    "psql trivia_test < trivia.psql\n",
    "python3 test_flaskr.py"
   ]
  },
  {
   "cell_type": "markdown",
   "id": "b021b02f",
   "metadata": {},
   "source": [
    "The first time you run the tests, omit the dropdb command.\n",
    "\n",
    "All tests are kept in the **test_flaskr.py** file and should be maintained as functionalities are added to the app.\n",
    "\n",
    "## API Reference\n",
    "\n",
    "### Getting Started\n",
    "\n",
    "Base URL: Currently this app is run locally and is not hosted. The backend app is hosted at http://127.0.0.1:5000/, which is set as a proxy in the frontend configuration.\n",
    "Authentication: There is no authentication required for this version of the app.\n",
    "\n",
    "### Error Handling\n",
    "\n",
    "Errors are returned as JSON objects in the following format:"
   ]
  },
  {
   "cell_type": "raw",
   "id": "161b8492",
   "metadata": {},
   "source": [
    "{\n",
    "    \"success\": False, \n",
    "    \"error\": 404, \n",
    "    \"message\": \"resource not found\"\n",
    "}"
   ]
  },
  {
   "cell_type": "markdown",
   "id": "3e34718b",
   "metadata": {},
   "source": [
    "The API will return three error types when requests fail:\n",
    "\n",
    "400: Bad Request\n",
    "404: Resource Not Found\n",
    "422: Not Processable\n",
    "\n",
    "### Endpoints\n",
    "\n",
    "GET /questions"
   ]
  }
 ],
 "metadata": {
  "kernelspec": {
   "display_name": "Python 3 (ipykernel)",
   "language": "python",
   "name": "python3"
  },
  "language_info": {
   "codemirror_mode": {
    "name": "ipython",
    "version": 3
   },
   "file_extension": ".py",
   "mimetype": "text/x-python",
   "name": "python",
   "nbconvert_exporter": "python",
   "pygments_lexer": "ipython3",
   "version": "3.9.7"
  }
 },
 "nbformat": 4,
 "nbformat_minor": 5
}
